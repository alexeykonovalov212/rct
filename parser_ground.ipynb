{
 "cells": [
  {
   "cell_type": "markdown",
   "id": "770804da",
   "metadata": {},
   "source": [
    "# Парсер лотов с сайта torgi.gov.ru "
   ]
  },
  {
   "cell_type": "markdown",
   "id": "c9b4fb9d",
   "metadata": {},
   "source": [
    "Парсер настроен только на категорию лотов \"Земельные участки\""
   ]
  },
  {
   "cell_type": "markdown",
   "id": "80b4439d",
   "metadata": {},
   "source": [
    "### Импортируем бибилиотеки "
   ]
  },
  {
   "cell_type": "code",
   "execution_count": 1,
   "id": "89ebbdd5",
   "metadata": {},
   "outputs": [],
   "source": [
    "import pandas as pd\n",
    "import requests\n",
    "from bs4 import BeautifulSoup\n",
    "import html\n",
    "from selenium import webdriver\n",
    "import time\n",
    "import datetime "
   ]
  },
  {
   "cell_type": "code",
   "execution_count": 2,
   "id": "2b92066f",
   "metadata": {},
   "outputs": [],
   "source": [
    "from requests.packages.urllib3.exceptions import InsecureRequestWarning\n",
    "\n",
    "requests.packages.urllib3.disable_warnings(InsecureRequestWarning)"
   ]
  },
  {
   "cell_type": "markdown",
   "id": "ab289b31",
   "metadata": {},
   "source": [
    "### Передаём URL ссылку и читаем страницу с помощью BeautifulSoup"
   ]
  },
  {
   "cell_type": "code",
   "execution_count": 3,
   "id": "02cdb19d",
   "metadata": {},
   "outputs": [],
   "source": [
    "url = 'https://torgi.gov.ru/new/api/public/notices/rss?subjRF=50&biddEndFrom=&biddEndTo=&pubFrom=2022-09-13&pubTo=2022-09-13&aucStartFrom=&aucStartTo=&catCode=2&text='\n",
    "\n",
    "req = requests.get(url, verify=False)\n",
    "\n",
    "soup = BeautifulSoup(req.text, features='xml')"
   ]
  },
  {
   "cell_type": "code",
   "execution_count": 4,
   "id": "adbc15f1",
   "metadata": {
    "scrolled": true
   },
   "outputs": [],
   "source": [
    "#soup"
   ]
  },
  {
   "cell_type": "markdown",
   "id": "9a40e12d",
   "metadata": {},
   "source": [
    "### В этой строке я ищу описание лотов в коде страницы и добавляю описание лотов в список"
   ]
  },
  {
   "cell_type": "code",
   "execution_count": 5,
   "id": "53431457",
   "metadata": {},
   "outputs": [],
   "source": [
    "num = soup.find_all('item')\n",
    "description_list = []\n",
    "for index in num:\n",
    "    col = index.find(name='description')\n",
    "    sel = html.unescape(col.text)\n",
    "    description_list.append(sel)\n",
    "#print(description_list)"
   ]
  },
  {
   "cell_type": "markdown",
   "id": "b8fc0e07",
   "metadata": {},
   "source": [
    "### На этом этапе я выделяю ссылку на каждый лот из списка с описаниями, чтобы в дальнейшем парсить каждый лот по ссылке"
   ]
  },
  {
   "cell_type": "code",
   "execution_count": 6,
   "id": "442f7dac",
   "metadata": {},
   "outputs": [],
   "source": [
    "links_all = []\n",
    "for i in description_list:\n",
    "    b = BeautifulSoup(i, features='html')\n",
    "    link = b.find('a')\n",
    "    link_final = link.get('href')\n",
    "    links_all.append(link_final)"
   ]
  },
  {
   "cell_type": "markdown",
   "id": "4d832b30",
   "metadata": {},
   "source": [
    "# -------------------------------------------------------------------------------------------------------------"
   ]
  },
  {
   "cell_type": "markdown",
   "id": "90ecd91d",
   "metadata": {},
   "source": [
    "### Этот код нужно использовать если сайт перестал отдавать полный html страницы при поиске лотов. Ищем на сайте не лоты, а извещения, получаем код страницы и ссылки на извещения, затем переделываем ссылки из ссылок на извещения в ссылки на лоты."
   ]
  },
  {
   "cell_type": "code",
   "execution_count": 7,
   "id": "41be5a93",
   "metadata": {
    "scrolled": true
   },
   "outputs": [],
   "source": [
    "for index in range(0,len(links_all)):\n",
    "    links_all[index] = 'https://torgi.gov.ru/new/public/lots/lot/' + links_all[index][-20:] + '_1/(lotInfo:info)'\n",
    "#links_all    "
   ]
  },
  {
   "cell_type": "markdown",
   "id": "901d95c6",
   "metadata": {},
   "source": [
    "# -------------------------------------------------------------------------------------------------------------"
   ]
  },
  {
   "cell_type": "markdown",
   "id": "f89423b8",
   "metadata": {},
   "source": [
    "### Этот код для заполнения ссылками списка вручную если не получилось достать код страницы "
   ]
  },
  {
   "cell_type": "code",
   "execution_count": 8,
   "id": "27f47f08",
   "metadata": {},
   "outputs": [],
   "source": [
    "#links_all = [\n",
    "#    'https://torgi.gov.ru/new/public/lots/lot/21000004710000002786_1/(lotInfo:info)',\n",
    "#    'https://torgi.gov.ru/new/public/lots/lot/21000004710000002787_1/(lotInfo:info)',\n",
    "#    'https://torgi.gov.ru/new/public/lots/lot/21000004710000002785_1/(lotInfo:info)',\n",
    "#    'https://torgi.gov.ru/new/public/lots/lot/21000004710000002778_1/(lotInfo:info)',\n",
    "#    'https://torgi.gov.ru/new/public/lots/lot/21000004710000002777_1/(lotInfo:info)',\n",
    "#    'https://torgi.gov.ru/new/public/lots/lot/21000004710000001977_1/(lotInfo:info)',\n",
    "#    'https://torgi.gov.ru/new/public/lots/lot/21000004710000001552_1/(lotInfo:info)',\n",
    "#    'https://torgi.gov.ru/new/public/lots/lot/21000004710000001992_1/(lotInfo:info)',\n",
    "#    'https://torgi.gov.ru/new/public/lots/lot/21000004710000001962_1/(lotInfo:info)',\n",
    "#    'https://torgi.gov.ru/new/public/lots/lot/21000004710000001951_1/(lotInfo:info)',\n",
    "#    'https://torgi.gov.ru/new/public/lots/lot/21000004710000001946_1/(lotInfo:info)',\n",
    "#    'https://torgi.gov.ru/new/public/lots/lot/21000004710000001945_1/(lotInfo:info)',\n",
    "#    'https://torgi.gov.ru/new/public/lots/lot/21000004710000000899_1/(lotInfo:info)',\n",
    "#    'https://torgi.gov.ru/new/public/lots/lot/21000004710000000898_1/(lotInfo:info)',\n",
    "#    'https://torgi.gov.ru/new/public/lots/lot/21000004710000000895_1/(lotInfo:info)'\n",
    "#]"
   ]
  },
  {
   "cell_type": "code",
   "execution_count": 9,
   "id": "537f037d",
   "metadata": {
    "scrolled": true
   },
   "outputs": [],
   "source": [
    "#!pip install webdriver_manager"
   ]
  },
  {
   "cell_type": "markdown",
   "id": "f7ed76ae",
   "metadata": {},
   "source": [
    "### С помощью этого кода открывается окно браузера (нужно только скачать вебдрайвер для конкретного браузера и указать путь к нему)"
   ]
  },
  {
   "cell_type": "code",
   "execution_count": 10,
   "id": "1c14efe8",
   "metadata": {
    "scrolled": false
   },
   "outputs": [
    {
     "name": "stderr",
     "output_type": "stream",
     "text": [
      "C:\\Users\\KonovalovAlE\\AppData\\Local\\Temp\\ipykernel_16916\\171963719.py:1: DeprecationWarning: executable_path has been deprecated, please pass in a Service object\n",
      "  driver = webdriver.Edge('C:\\\\Users\\\\KonovalovAlE\\\\Desktop\\\\jupyter notebook\\\\Вебдрайвер edge\\\\msedgedriver.exe')\n"
     ]
    }
   ],
   "source": [
    "driver = webdriver.Edge('C:\\\\Users\\\\KonovalovAlE\\\\Desktop\\\\jupyter notebook\\\\Вебдрайвер edge\\\\msedgedriver.exe')"
   ]
  },
  {
   "cell_type": "markdown",
   "id": "a9f63592",
   "metadata": {},
   "source": [
    "### Это функция которая достаёт из ссылки, нужные мне данные и где нужно изменяет их, после чего добавляет каждый элемент в список и возвращает список выгруженных данных на выходе"
   ]
  },
  {
   "cell_type": "code",
   "execution_count": 11,
   "id": "3db368e7",
   "metadata": {},
   "outputs": [],
   "source": [
    "def data_parse(link):\n",
    "    driver.get(link)\n",
    "    time.sleep(2)\n",
    "    main_page = driver.page_source\n",
    "    soup = BeautifulSoup(main_page, features='xml')\n",
    "    \n",
    "    # Ищу местоположение\n",
    "    pl = soup.find_all(attrs={\"class\":{\"attr_value\"}})\n",
    "    place = pl[18].text\n",
    "    \n",
    "    # Площадь участка \n",
    "    sq = soup.find_all(attrs={\"class\":{\"lotAttributeDetail no-padding-bottom\"}})\n",
    "    square = sq[0].text.split('м')[0].strip()\n",
    "    square\n",
    "    \n",
    "    # Описание лота\n",
    "    head = soup.find_all(attrs={\"class\":{\"header_title\"}})\n",
    "    header = head[0].text\n",
    "    \n",
    "    # Срок аренды\n",
    "    rent = soup.find_all(attrs={\"class\":{\"attr_value\"}})\n",
    "    try:\n",
    "        rent_time = rent[23].text.strip()\n",
    "    except:\n",
    "        rent_time = 'не нашёл'\n",
    "    if len(rent_time) == 0:\n",
    "        try:\n",
    "            rent_time = rent[24].text.strip()\n",
    "        except:\n",
    "            if len(rent_time) == 0:\n",
    "                rent_time = rent[17].text.strip() + ' месяца'\n",
    "                if rent_time == 'в соответствии с Извещением месяца':\n",
    "                    rent_time = rent[16].text.strip() + ' месяца'\n",
    "    if rent_time == 'Не разграниченная собственность':\n",
    "        rent_time = ''\n",
    "    \n",
    "    # Начальная цена\n",
    "    start = soup.find_all(attrs={\"class\":{\"prices__row__price-cell lotPrice\"}}) \n",
    "    start_price = start[0].text.split('₽')[0]\n",
    "    \n",
    "    # Номер извещения\n",
    "    \n",
    "    num = soup.find_all(attrs={\"class\":{\"lotAttributeValue\"}})\n",
    "    nums = num[0].text.split(',')\n",
    "    number = nums[0].split('№')[1]\n",
    "    \n",
    "    # Номер лота\n",
    "    \n",
    "    lot = nums[1].split('№')\n",
    "    lot_n = lot[0]+lot[1]\n",
    "    lot_num = lot_n[1:]\n",
    "    \n",
    "    # Ссылка на лот, добавляю в итоговые данные по порядку\n",
    "    \n",
    "    #link которая передаётся в функцию\n",
    "\n",
    "    # Дата окончания приема заявок\n",
    "    \n",
    "    date_cl = soup.find_all(attrs={\"class\":{\"lotAttributeValue\"}})\n",
    "    date_close = date_cl[5].text[1:11]\n",
    "    \n",
    "    \n",
    "    # Дата торгов\n",
    "    \n",
    "    date_st = soup.find_all(attrs={\"class\":{\"lotAttributeValue\"}})\n",
    "    date_start = date_st[6].text[1:11]\n",
    "    \n",
    "    # Назначение \n",
    "    \n",
    "    Appointment = soup.find_all(attrs={\"class\":{\"lotAttributeDetail no-padding-bottom\"}})[-1].text.strip()\n",
    "    if \"50:\" in Appointment:\n",
    "        try:\n",
    "            Appointment = soup.find_all(attrs={\"class\":{\"lotAttributeDetail no-padding-bottom\"}})[-2].text.strip()\n",
    "        except:\n",
    "            Appointment = soup.find_all(attrs={\"class\":{\"lotAttributeDetail no-padding-bottom\"}})[-3].text.strip()\n",
    "    \n",
    "    # Статус лота\n",
    "    try:\n",
    "        status = soup.find_all(attrs={\"class\":{\"header_status prague\"}})\n",
    "        if len(list(status)) == 0:\n",
    "            status = soup.find_all(attrs={\"class\":{\"header_status amsterdam\"}})[0].text.strip()\n",
    "        else:\n",
    "            status = soup.find_all(attrs={\"class\":{\"header_status prague\"}})[0].text.strip()\n",
    "    except:\n",
    "        status\n",
    "        \n",
    "    # Количество версий\n",
    "        #Достаю ссылку на извещение \n",
    "    linked = soup.find_all(attrs={\"class\":{\"button text\"}})\n",
    "    link_to = 'https://torgi.gov.ru' + linked[7].get('href')\n",
    "    link_to\n",
    "        #Загружаю ссылку через драйвер\n",
    "    driver.get(link_to)\n",
    "    time.sleep(2)\n",
    "    main_page = driver.page_source\n",
    "    soup = BeautifulSoup(main_page, features='xml')\n",
    "    \n",
    "    # Дата публикации \n",
    "    lot = soup.find_all(attrs={\"class\":{\"attr_value\"}})\n",
    "    dt_publ = lot[1].text[1:11]\n",
    "    \n",
    "    # Организатор торгов\n",
    "    for i in lot:\n",
    "        if 'КОМИТЕТ' in i.text:\n",
    "            auction_org = i.text\n",
    "        else:\n",
    "            auction_org = lot[8].text\n",
    "        \n",
    "    # Получаю количество версий \n",
    "    versions = driver.find_element(\"class name\", 'aside-btn')\n",
    "    versions.click()\n",
    "    time.sleep(2)\n",
    "    action_time = driver.find_element(\"class name\", \"version-link\").get_attribute('innerHTML').strip()\n",
    "    \n",
    "    ###############################################\n",
    "    \n",
    "    list_of_data = [auction_org,place,square,header,rent_time,start_price,number,lot_num,link, dt_publ,date_close,date_start,Appointment,status, action_time]\n",
    "    \n",
    "    return list_of_data"
   ]
  },
  {
   "cell_type": "markdown",
   "id": "63134e1b",
   "metadata": {},
   "source": [
    "### Код для проверки работоспособности функции на первой ссылке из списка (первый лот)"
   ]
  },
  {
   "cell_type": "code",
   "execution_count": 12,
   "id": "d7aba573",
   "metadata": {
    "scrolled": true
   },
   "outputs": [],
   "source": [
    "#data_parse(links_all[0])"
   ]
  },
  {
   "cell_type": "markdown",
   "id": "71df7786",
   "metadata": {},
   "source": [
    "### Создаю датафрейм, названия колонок соответствуют порядку выгружаемых данных с помощью функции чтобы ничего не перепуталось в таблице"
   ]
  },
  {
   "cell_type": "code",
   "execution_count": 13,
   "id": "16b8a5a5",
   "metadata": {
    "scrolled": true
   },
   "outputs": [],
   "source": [
    "index = ['Организатор торгов','местоположение','Площадь ЗУ (кв.м)','Описание объекта','Срок передачи прав(лет)','Начальнаяцена,загод','Номер извещения','Номер лота','Ссылка','Дата публикации','Дата окончания приема заявок','Дата торгов/ подведения итогов/отмены','Назначение','Статус лота','Количество версий']\n",
    "columns = list(range(0,len(links_all)))\n",
    "data = pd.DataFrame(index=index, columns=columns)\n",
    "#data"
   ]
  },
  {
   "cell_type": "markdown",
   "id": "c617e761",
   "metadata": {},
   "source": [
    "### заполняю таблицу"
   ]
  },
  {
   "cell_type": "markdown",
   "id": "5b6edc7b",
   "metadata": {},
   "source": [
    "Код для заполнения безопасным способом, если на одном из лотов функция не сработает строка соответствующая этому лоту останется пустой в таблице"
   ]
  },
  {
   "cell_type": "code",
   "execution_count": 14,
   "id": "718ee05a",
   "metadata": {
    "scrolled": true
   },
   "outputs": [],
   "source": [
    "#for column in data.columns:\n",
    "#    try:\n",
    "#        data[column] = data_parse(links_all[column])\n",
    "#    except:\n",
    "#        data[column] = data[column]"
   ]
  },
  {
   "cell_type": "markdown",
   "id": "1cd0e15b",
   "metadata": {},
   "source": [
    "Стандартный способ заполнения таблицы"
   ]
  },
  {
   "cell_type": "code",
   "execution_count": 15,
   "id": "e5f1fce3",
   "metadata": {},
   "outputs": [],
   "source": [
    "for column in data.columns:\n",
    "        data[column] = data_parse(links_all[column])"
   ]
  },
  {
   "cell_type": "code",
   "execution_count": 16,
   "id": "74ab5819",
   "metadata": {
    "scrolled": false
   },
   "outputs": [],
   "source": [
    "data = data.T"
   ]
  },
  {
   "cell_type": "markdown",
   "id": "86a63144",
   "metadata": {},
   "source": [
    "### Функция для замены ИЖС и ЛПХ в назначении"
   ]
  },
  {
   "cell_type": "code",
   "execution_count": 17,
   "id": "b02d4de8",
   "metadata": {},
   "outputs": [],
   "source": [
    "def izs_lpx(data):\n",
    "    if data == 'Для индивидуального жилищного строительства':\n",
    "        return 'ИЖС'\n",
    "    elif data == 'Для ведения личного подсобного хозяйства (приусадебный земельный участок)':\n",
    "        return 'ЛПХ'\n",
    "    else:\n",
    "        return data"
   ]
  },
  {
   "cell_type": "markdown",
   "id": "eb01d068",
   "metadata": {},
   "source": [
    "### Меняю данные в столбце \"Назначение\""
   ]
  },
  {
   "cell_type": "code",
   "execution_count": 18,
   "id": "44caec87",
   "metadata": {},
   "outputs": [],
   "source": [
    "data['Назначение'] = data['Назначение'].apply(izs_lpx)"
   ]
  },
  {
   "cell_type": "markdown",
   "id": "5a9bc352",
   "metadata": {},
   "source": [
    "Меняю тип данных столбца `Номер извещения` в строковый на всякий случай"
   ]
  },
  {
   "cell_type": "code",
   "execution_count": 19,
   "id": "a0d96148",
   "metadata": {},
   "outputs": [],
   "source": [
    "data['Номер извещения'] = data['Номер извещения'].astype('str')"
   ]
  },
  {
   "cell_type": "markdown",
   "id": "6de2dadc",
   "metadata": {},
   "source": [
    "### Особенности и предварительный просмотр"
   ]
  },
  {
   "cell_type": "markdown",
   "id": "67ca1c24",
   "metadata": {},
   "source": [
    "Когда правим выгрузку в Excel нужно для каждого столбца указать тип данных, чтобы номер извещения считывался как тект и не переводился в экспоненциальное число автоматически!!!"
   ]
  },
  {
   "cell_type": "markdown",
   "id": "00ecd934",
   "metadata": {
    "scrolled": false
   },
   "source": [
    "Сортирую таблицу по количеству версий "
   ]
  },
  {
   "cell_type": "code",
   "execution_count": 20,
   "id": "a46197df",
   "metadata": {
    "scrolled": false
   },
   "outputs": [],
   "source": [
    "data = data.sort_values(by='Количество версий').reset_index(drop=True)"
   ]
  },
  {
   "cell_type": "markdown",
   "id": "46a742e6",
   "metadata": {},
   "source": [
    "Предварительный просмотр таблицы"
   ]
  },
  {
   "cell_type": "code",
   "execution_count": 21,
   "id": "86c79938",
   "metadata": {
    "scrolled": false
   },
   "outputs": [
    {
     "data": {
      "text/html": [
       "<div>\n",
       "<style scoped>\n",
       "    .dataframe tbody tr th:only-of-type {\n",
       "        vertical-align: middle;\n",
       "    }\n",
       "\n",
       "    .dataframe tbody tr th {\n",
       "        vertical-align: top;\n",
       "    }\n",
       "\n",
       "    .dataframe thead th {\n",
       "        text-align: right;\n",
       "    }\n",
       "</style>\n",
       "<table border=\"1\" class=\"dataframe\">\n",
       "  <thead>\n",
       "    <tr style=\"text-align: right;\">\n",
       "      <th></th>\n",
       "      <th>Организатор торгов</th>\n",
       "      <th>местоположение</th>\n",
       "      <th>Площадь ЗУ (кв.м)</th>\n",
       "      <th>Описание объекта</th>\n",
       "      <th>Срок передачи прав(лет)</th>\n",
       "      <th>Начальнаяцена,загод</th>\n",
       "      <th>Номер извещения</th>\n",
       "      <th>Номер лота</th>\n",
       "      <th>Ссылка</th>\n",
       "      <th>Дата публикации</th>\n",
       "      <th>Дата окончания приема заявок</th>\n",
       "      <th>Дата торгов/ подведения итогов/отмены</th>\n",
       "      <th>Назначение</th>\n",
       "      <th>Статус лота</th>\n",
       "      <th>Количество версий</th>\n",
       "    </tr>\n",
       "  </thead>\n",
       "  <tbody>\n",
       "    <tr>\n",
       "      <th>0</th>\n",
       "      <td>КОМИТЕТ ПО КОНКУРЕНТНОЙ ПОЛИТИКЕ МОСКОВСКОЙ ОБ...</td>\n",
       "      <td>Московская область, Талдомский г.о, с. Квашенки</td>\n",
       "      <td>627</td>\n",
       "      <td>Аренда земельного участка 627 кв.м. для ЛПХ в ...</td>\n",
       "      <td>20 лет</td>\n",
       "      <td>8296,96</td>\n",
       "      <td>21000004710000002889</td>\n",
       "      <td>лот 1</td>\n",
       "      <td>https://torgi.gov.ru/new/public/lots/lot/21000...</td>\n",
       "      <td>13.09.2022</td>\n",
       "      <td>25.10.2022</td>\n",
       "      <td>28.10.2022</td>\n",
       "      <td>ЛПХ</td>\n",
       "      <td>Опубликован</td>\n",
       "      <td>Версия 1</td>\n",
       "    </tr>\n",
       "    <tr>\n",
       "      <th>1</th>\n",
       "      <td>КОМИТЕТ ПО КОНКУРЕНТНОЙ ПОЛИТИКЕ МОСКОВСКОЙ ОБ...</td>\n",
       "      <td>Российская Федерация, Московская область, Горо...</td>\n",
       "      <td>3000</td>\n",
       "      <td>Аренда земельного участка 3 000 кв.м для ЛПХ в...</td>\n",
       "      <td>13 лет 2 месяцев</td>\n",
       "      <td>144795,00</td>\n",
       "      <td>21000004710000002888</td>\n",
       "      <td>лот 1</td>\n",
       "      <td>https://torgi.gov.ru/new/public/lots/lot/21000...</td>\n",
       "      <td>13.09.2022</td>\n",
       "      <td>26.10.2022</td>\n",
       "      <td>31.10.2022</td>\n",
       "      <td>ЛПХ</td>\n",
       "      <td>Опубликован</td>\n",
       "      <td>Версия 1</td>\n",
       "    </tr>\n",
       "    <tr>\n",
       "      <th>2</th>\n",
       "      <td>КОМИТЕТ ПО КОНКУРЕНТНОЙ ПОЛИТИКЕ МОСКОВСКОЙ ОБ...</td>\n",
       "      <td>Московская область, рп Серебряные Пруды, мкр Т...</td>\n",
       "      <td>980</td>\n",
       "      <td>Аренда земельного участка 980 кв.м. для ЛПХ в ...</td>\n",
       "      <td>20 лет</td>\n",
       "      <td>26435,01</td>\n",
       "      <td>21000004710000002887</td>\n",
       "      <td>лот 1</td>\n",
       "      <td>https://torgi.gov.ru/new/public/lots/lot/21000...</td>\n",
       "      <td>13.09.2022</td>\n",
       "      <td>31.10.2022</td>\n",
       "      <td>03.11.2022</td>\n",
       "      <td>ЛПХ</td>\n",
       "      <td>Опубликован</td>\n",
       "      <td>Версия 1</td>\n",
       "    </tr>\n",
       "    <tr>\n",
       "      <th>3</th>\n",
       "      <td>КОМИТЕТ ПО КОНКУРЕНТНОЙ ПОЛИТИКЕ МОСКОВСКОЙ ОБ...</td>\n",
       "      <td>Российская Федерация, Московская область, Горо...</td>\n",
       "      <td>732</td>\n",
       "      <td>Аренда земельного участка 732 кв.м. для ИЖС в ...</td>\n",
       "      <td>20 лет</td>\n",
       "      <td>38247,73</td>\n",
       "      <td>21000004710000002885</td>\n",
       "      <td>лот 1</td>\n",
       "      <td>https://torgi.gov.ru/new/public/lots/lot/21000...</td>\n",
       "      <td>13.09.2022</td>\n",
       "      <td>26.10.2022</td>\n",
       "      <td>31.10.2022</td>\n",
       "      <td>ИЖС</td>\n",
       "      <td>Опубликован</td>\n",
       "      <td>Версия 1</td>\n",
       "    </tr>\n",
       "    <tr>\n",
       "      <th>4</th>\n",
       "      <td>КОМИТЕТ ПО КОНКУРЕНТНОЙ ПОЛИТИКЕ МОСКОВСКОЙ ОБ...</td>\n",
       "      <td>Российская Федерация, Московская область, Талд...</td>\n",
       "      <td>1259</td>\n",
       "      <td>Аренда земельного участка 1 259 кв.м. для ИЖС ...</td>\n",
       "      <td>20 лет</td>\n",
       "      <td>30098,53</td>\n",
       "      <td>21000004710000002884</td>\n",
       "      <td>лот 1</td>\n",
       "      <td>https://torgi.gov.ru/new/public/lots/lot/21000...</td>\n",
       "      <td>13.09.2022</td>\n",
       "      <td>25.10.2022</td>\n",
       "      <td>28.10.2022</td>\n",
       "      <td>ИЖС</td>\n",
       "      <td>Опубликован</td>\n",
       "      <td>Версия 1</td>\n",
       "    </tr>\n",
       "    <tr>\n",
       "      <th>5</th>\n",
       "      <td>КОМИТЕТ ПО КОНКУРЕНТНОЙ ПОЛИТИКЕ МОСКОВСКОЙ ОБ...</td>\n",
       "      <td>Российская Федерация, Московская область, Горо...</td>\n",
       "      <td>1390</td>\n",
       "      <td>Аренда земельного участка 1 390 кв.м. для ИЖС ...</td>\n",
       "      <td>20 лет</td>\n",
       "      <td>72425,95</td>\n",
       "      <td>21000004710000002883</td>\n",
       "      <td>лот 1</td>\n",
       "      <td>https://torgi.gov.ru/new/public/lots/lot/21000...</td>\n",
       "      <td>13.09.2022</td>\n",
       "      <td>26.10.2022</td>\n",
       "      <td>31.10.2022</td>\n",
       "      <td>ИЖС</td>\n",
       "      <td>Опубликован</td>\n",
       "      <td>Версия 1</td>\n",
       "    </tr>\n",
       "    <tr>\n",
       "      <th>6</th>\n",
       "      <td>КОМИТЕТ ПО КОНКУРЕНТНОЙ ПОЛИТИКЕ МОСКОВСКОЙ ОБ...</td>\n",
       "      <td>Московская область, Дмитровский городской окру...</td>\n",
       "      <td>1976</td>\n",
       "      <td>Аренда земельного участка 1 976 кв.м. для ИЖС ...</td>\n",
       "      <td>20 лет</td>\n",
       "      <td>841756,00</td>\n",
       "      <td>21000004710000002882</td>\n",
       "      <td>лот 1</td>\n",
       "      <td>https://torgi.gov.ru/new/public/lots/lot/21000...</td>\n",
       "      <td>13.09.2022</td>\n",
       "      <td>26.10.2022</td>\n",
       "      <td>31.10.2022</td>\n",
       "      <td>ИЖС</td>\n",
       "      <td>Опубликован</td>\n",
       "      <td>Версия 1</td>\n",
       "    </tr>\n",
       "    <tr>\n",
       "      <th>7</th>\n",
       "      <td>КОМИТЕТ ПО КОНКУРЕНТНОЙ ПОЛИТИКЕ МОСКОВСКОЙ ОБ...</td>\n",
       "      <td>Местоположение установлено относительно ориент...</td>\n",
       "      <td>1124</td>\n",
       "      <td>Аренда земельного участка 1 124 кв.м. для ИЖС ...</td>\n",
       "      <td>13 лет 2 месяцев</td>\n",
       "      <td>15596,06</td>\n",
       "      <td>21000004710000002881</td>\n",
       "      <td>лот 1</td>\n",
       "      <td>https://torgi.gov.ru/new/public/lots/lot/21000...</td>\n",
       "      <td>13.09.2022</td>\n",
       "      <td>25.10.2022</td>\n",
       "      <td>28.10.2022</td>\n",
       "      <td>ИЖС</td>\n",
       "      <td>Опубликован</td>\n",
       "      <td>Версия 1</td>\n",
       "    </tr>\n",
       "    <tr>\n",
       "      <th>8</th>\n",
       "      <td>КОМИТЕТ ПО КОНКУРЕНТНОЙ ПОЛИТИКЕ МОСКОВСКОЙ ОБ...</td>\n",
       "      <td>Российская Федерация, Московская область, Горо...</td>\n",
       "      <td>2650</td>\n",
       "      <td>Аренда земельного участка 2 650 кв.м. для ЛПХ ...</td>\n",
       "      <td>20 лет</td>\n",
       "      <td>134339,10</td>\n",
       "      <td>21000004710000002880</td>\n",
       "      <td>лот 1</td>\n",
       "      <td>https://torgi.gov.ru/new/public/lots/lot/21000...</td>\n",
       "      <td>13.09.2022</td>\n",
       "      <td>26.10.2022</td>\n",
       "      <td>31.10.2022</td>\n",
       "      <td>ЛПХ</td>\n",
       "      <td>Опубликован</td>\n",
       "      <td>Версия 1</td>\n",
       "    </tr>\n",
       "    <tr>\n",
       "      <th>9</th>\n",
       "      <td>КОМИТЕТ ПО КОНКУРЕНТНОЙ ПОЛИТИКЕ МОСКОВСКОЙ ОБ...</td>\n",
       "      <td>Московская область, Дмитровский городской окру...</td>\n",
       "      <td>702</td>\n",
       "      <td>Аренда земельного участка 702 кв.м. для ЛПХ в ...</td>\n",
       "      <td>20 лет</td>\n",
       "      <td>592846,02</td>\n",
       "      <td>21000004710000002879</td>\n",
       "      <td>лот 1</td>\n",
       "      <td>https://torgi.gov.ru/new/public/lots/lot/21000...</td>\n",
       "      <td>13.09.2022</td>\n",
       "      <td>26.10.2022</td>\n",
       "      <td>31.10.2022</td>\n",
       "      <td>ЛПХ</td>\n",
       "      <td>Опубликован</td>\n",
       "      <td>Версия 1</td>\n",
       "    </tr>\n",
       "    <tr>\n",
       "      <th>10</th>\n",
       "      <td>КОМИТЕТ ПО КОНКУРЕНТНОЙ ПОЛИТИКЕ МОСКОВСКОЙ ОБ...</td>\n",
       "      <td>Московская область, Городской округ Подольск, ...</td>\n",
       "      <td>1200</td>\n",
       "      <td>Аренда земельного участка 1 200 кв.м. для ИЖС ...</td>\n",
       "      <td>20 лет</td>\n",
       "      <td>624218,00</td>\n",
       "      <td>21000004710000002878</td>\n",
       "      <td>лот 1</td>\n",
       "      <td>https://torgi.gov.ru/new/public/lots/lot/21000...</td>\n",
       "      <td>13.09.2022</td>\n",
       "      <td>20.10.2022</td>\n",
       "      <td>25.10.2022</td>\n",
       "      <td>ИЖС</td>\n",
       "      <td>Опубликован</td>\n",
       "      <td>Версия 1</td>\n",
       "    </tr>\n",
       "  </tbody>\n",
       "</table>\n",
       "</div>"
      ],
      "text/plain": [
       "                                   Организатор торгов  \\\n",
       "0   КОМИТЕТ ПО КОНКУРЕНТНОЙ ПОЛИТИКЕ МОСКОВСКОЙ ОБ...   \n",
       "1   КОМИТЕТ ПО КОНКУРЕНТНОЙ ПОЛИТИКЕ МОСКОВСКОЙ ОБ...   \n",
       "2   КОМИТЕТ ПО КОНКУРЕНТНОЙ ПОЛИТИКЕ МОСКОВСКОЙ ОБ...   \n",
       "3   КОМИТЕТ ПО КОНКУРЕНТНОЙ ПОЛИТИКЕ МОСКОВСКОЙ ОБ...   \n",
       "4   КОМИТЕТ ПО КОНКУРЕНТНОЙ ПОЛИТИКЕ МОСКОВСКОЙ ОБ...   \n",
       "5   КОМИТЕТ ПО КОНКУРЕНТНОЙ ПОЛИТИКЕ МОСКОВСКОЙ ОБ...   \n",
       "6   КОМИТЕТ ПО КОНКУРЕНТНОЙ ПОЛИТИКЕ МОСКОВСКОЙ ОБ...   \n",
       "7   КОМИТЕТ ПО КОНКУРЕНТНОЙ ПОЛИТИКЕ МОСКОВСКОЙ ОБ...   \n",
       "8   КОМИТЕТ ПО КОНКУРЕНТНОЙ ПОЛИТИКЕ МОСКОВСКОЙ ОБ...   \n",
       "9   КОМИТЕТ ПО КОНКУРЕНТНОЙ ПОЛИТИКЕ МОСКОВСКОЙ ОБ...   \n",
       "10  КОМИТЕТ ПО КОНКУРЕНТНОЙ ПОЛИТИКЕ МОСКОВСКОЙ ОБ...   \n",
       "\n",
       "                                       местоположение Площадь ЗУ (кв.м)  \\\n",
       "0     Московская область, Талдомский г.о, с. Квашенки               627   \n",
       "1   Российская Федерация, Московская область, Горо...              3000   \n",
       "2   Московская область, рп Серебряные Пруды, мкр Т...               980   \n",
       "3   Российская Федерация, Московская область, Горо...               732   \n",
       "4   Российская Федерация, Московская область, Талд...              1259   \n",
       "5   Российская Федерация, Московская область, Горо...              1390   \n",
       "6   Московская область, Дмитровский городской окру...              1976   \n",
       "7   Местоположение установлено относительно ориент...              1124   \n",
       "8   Российская Федерация, Московская область, Горо...              2650   \n",
       "9   Московская область, Дмитровский городской окру...               702   \n",
       "10  Московская область, Городской округ Подольск, ...              1200   \n",
       "\n",
       "                                     Описание объекта Срок передачи прав(лет)  \\\n",
       "0   Аренда земельного участка 627 кв.м. для ЛПХ в ...                  20 лет   \n",
       "1   Аренда земельного участка 3 000 кв.м для ЛПХ в...        13 лет 2 месяцев   \n",
       "2   Аренда земельного участка 980 кв.м. для ЛПХ в ...                  20 лет   \n",
       "3   Аренда земельного участка 732 кв.м. для ИЖС в ...                  20 лет   \n",
       "4   Аренда земельного участка 1 259 кв.м. для ИЖС ...                  20 лет   \n",
       "5   Аренда земельного участка 1 390 кв.м. для ИЖС ...                  20 лет   \n",
       "6   Аренда земельного участка 1 976 кв.м. для ИЖС ...                  20 лет   \n",
       "7   Аренда земельного участка 1 124 кв.м. для ИЖС ...        13 лет 2 месяцев   \n",
       "8   Аренда земельного участка 2 650 кв.м. для ЛПХ ...                  20 лет   \n",
       "9   Аренда земельного участка 702 кв.м. для ЛПХ в ...                  20 лет   \n",
       "10  Аренда земельного участка 1 200 кв.м. для ИЖС ...                  20 лет   \n",
       "\n",
       "   Начальнаяцена,загод       Номер извещения Номер лота  \\\n",
       "0              8296,96  21000004710000002889      лот 1   \n",
       "1            144795,00  21000004710000002888      лот 1   \n",
       "2             26435,01  21000004710000002887      лот 1   \n",
       "3             38247,73  21000004710000002885      лот 1   \n",
       "4             30098,53  21000004710000002884      лот 1   \n",
       "5             72425,95  21000004710000002883      лот 1   \n",
       "6            841756,00  21000004710000002882      лот 1   \n",
       "7             15596,06  21000004710000002881      лот 1   \n",
       "8            134339,10  21000004710000002880      лот 1   \n",
       "9            592846,02  21000004710000002879      лот 1   \n",
       "10           624218,00  21000004710000002878      лот 1   \n",
       "\n",
       "                                               Ссылка Дата публикации  \\\n",
       "0   https://torgi.gov.ru/new/public/lots/lot/21000...      13.09.2022   \n",
       "1   https://torgi.gov.ru/new/public/lots/lot/21000...      13.09.2022   \n",
       "2   https://torgi.gov.ru/new/public/lots/lot/21000...      13.09.2022   \n",
       "3   https://torgi.gov.ru/new/public/lots/lot/21000...      13.09.2022   \n",
       "4   https://torgi.gov.ru/new/public/lots/lot/21000...      13.09.2022   \n",
       "5   https://torgi.gov.ru/new/public/lots/lot/21000...      13.09.2022   \n",
       "6   https://torgi.gov.ru/new/public/lots/lot/21000...      13.09.2022   \n",
       "7   https://torgi.gov.ru/new/public/lots/lot/21000...      13.09.2022   \n",
       "8   https://torgi.gov.ru/new/public/lots/lot/21000...      13.09.2022   \n",
       "9   https://torgi.gov.ru/new/public/lots/lot/21000...      13.09.2022   \n",
       "10  https://torgi.gov.ru/new/public/lots/lot/21000...      13.09.2022   \n",
       "\n",
       "   Дата окончания приема заявок Дата торгов/ подведения итогов/отмены  \\\n",
       "0                    25.10.2022                            28.10.2022   \n",
       "1                    26.10.2022                            31.10.2022   \n",
       "2                    31.10.2022                            03.11.2022   \n",
       "3                    26.10.2022                            31.10.2022   \n",
       "4                    25.10.2022                            28.10.2022   \n",
       "5                    26.10.2022                            31.10.2022   \n",
       "6                    26.10.2022                            31.10.2022   \n",
       "7                    25.10.2022                            28.10.2022   \n",
       "8                    26.10.2022                            31.10.2022   \n",
       "9                    26.10.2022                            31.10.2022   \n",
       "10                   20.10.2022                            25.10.2022   \n",
       "\n",
       "   Назначение  Статус лота Количество версий  \n",
       "0         ЛПХ  Опубликован          Версия 1  \n",
       "1         ЛПХ  Опубликован          Версия 1  \n",
       "2         ЛПХ  Опубликован          Версия 1  \n",
       "3         ИЖС  Опубликован          Версия 1  \n",
       "4         ИЖС  Опубликован          Версия 1  \n",
       "5         ИЖС  Опубликован          Версия 1  \n",
       "6         ИЖС  Опубликован          Версия 1  \n",
       "7         ИЖС  Опубликован          Версия 1  \n",
       "8         ЛПХ  Опубликован          Версия 1  \n",
       "9         ЛПХ  Опубликован          Версия 1  \n",
       "10        ИЖС  Опубликован          Версия 1  "
      ]
     },
     "execution_count": 21,
     "metadata": {},
     "output_type": "execute_result"
    }
   ],
   "source": [
    "data"
   ]
  },
  {
   "cell_type": "markdown",
   "id": "46df26fe",
   "metadata": {},
   "source": [
    "### Сохранение"
   ]
  },
  {
   "cell_type": "markdown",
   "id": "54195a65",
   "metadata": {},
   "source": [
    "Сохраняю таблицу в кодировке \"utf-8\", считываем её в той же кодировке в excel, здесь указывается название файла"
   ]
  },
  {
   "cell_type": "code",
   "execution_count": 24,
   "id": "b241d88f",
   "metadata": {},
   "outputs": [],
   "source": [
    "#data.to_csv('parse_15_09_2022.csv', encoding='utf-8')"
   ]
  },
  {
   "cell_type": "markdown",
   "id": "c5e74e83",
   "metadata": {},
   "source": [
    "Заходим на Home Page и скачиваем получившийся файл в формате csv "
   ]
  },
  {
   "cell_type": "markdown",
   "id": "9140520d",
   "metadata": {},
   "source": [
    "Далее кладём его в любую папку и открываем, внутри непонятные строки, удаляем всё, нажимаем на вкладку данные и добавить из текста, выбираем этот файл в папке из которой его открыли, импортируем с разделителем \"запятая\" и для каждой колонки проставляем тип данных тектовый, получаем в результате готовую таблицу, сохраняем её как лист или книгу excel "
   ]
  }
 ],
 "metadata": {
  "kernelspec": {
   "display_name": "Python 3 (ipykernel)",
   "language": "python",
   "name": "python3"
  },
  "language_info": {
   "codemirror_mode": {
    "name": "ipython",
    "version": 3
   },
   "file_extension": ".py",
   "mimetype": "text/x-python",
   "name": "python",
   "nbconvert_exporter": "python",
   "pygments_lexer": "ipython3",
   "version": "3.9.12"
  }
 },
 "nbformat": 4,
 "nbformat_minor": 5
}
