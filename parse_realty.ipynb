{
 "cells": [
  {
   "cell_type": "code",
   "execution_count": 590,
   "id": "89ebbdd5",
   "metadata": {},
   "outputs": [],
   "source": [
    "import pandas as pd\n",
    "import requests\n",
    "from bs4 import BeautifulSoup\n",
    "import html\n",
    "from selenium import webdriver\n",
    "import time"
   ]
  },
  {
   "cell_type": "code",
   "execution_count": 591,
   "id": "2b92066f",
   "metadata": {},
   "outputs": [],
   "source": [
    "from requests.packages.urllib3.exceptions import InsecureRequestWarning\n",
    "\n",
    "requests.packages.urllib3.disable_warnings(InsecureRequestWarning)"
   ]
  },
  {
   "cell_type": "code",
   "execution_count": 592,
   "id": "02cdb19d",
   "metadata": {
    "scrolled": true
   },
   "outputs": [],
   "source": [
    "url = 'https://torgi.gov.ru/new/api/public/notices/rss?subjRF=50&biddEndFrom=&biddEndTo=&pubFrom=2022-09-13&pubTo=2022-09-13&aucStartFrom=&aucStartTo=&catCode=7&text='\n",
    "req = requests.get(url, verify=False)\n",
    "\n",
    "soup = BeautifulSoup(req.text, features='xml')"
   ]
  },
  {
   "cell_type": "code",
   "execution_count": 593,
   "id": "adbc15f1",
   "metadata": {},
   "outputs": [],
   "source": [
    "#soup"
   ]
  },
  {
   "cell_type": "code",
   "execution_count": 594,
   "id": "53431457",
   "metadata": {},
   "outputs": [],
   "source": [
    "num = soup.find_all('item')\n",
    "description_list = []\n",
    "for index in num:\n",
    "    col = index.find(name='description')\n",
    "    sel = html.unescape(col.text)\n",
    "    description_list.append(sel)\n",
    "#print(description_list)"
   ]
  },
  {
   "cell_type": "code",
   "execution_count": 595,
   "id": "442f7dac",
   "metadata": {},
   "outputs": [],
   "source": [
    "links_all = []\n",
    "for i in description_list:\n",
    "    b = BeautifulSoup(i, features='html')\n",
    "    link = b.find('a')\n",
    "    link_final = link.get('href')\n",
    "    links_all.append(link_final)"
   ]
  },
  {
   "cell_type": "code",
   "execution_count": 596,
   "id": "17c7d43c",
   "metadata": {},
   "outputs": [],
   "source": [
    "#links_all"
   ]
  },
  {
   "cell_type": "code",
   "execution_count": 597,
   "id": "0aa52bda",
   "metadata": {},
   "outputs": [],
   "source": [
    "for index in range(0,len(links_all)):\n",
    "    links_all[index] = 'https://torgi.gov.ru/new/public/lots/lot/' + links_all[index][-20:] + '_1/(lotInfo:info)'\n",
    "#links_all   "
   ]
  },
  {
   "cell_type": "code",
   "execution_count": 598,
   "id": "537f037d",
   "metadata": {
    "scrolled": true
   },
   "outputs": [],
   "source": [
    "#!pip install webdriver_manager"
   ]
  },
  {
   "cell_type": "code",
   "execution_count": 599,
   "id": "1c14efe8",
   "metadata": {
    "scrolled": false
   },
   "outputs": [
    {
     "name": "stderr",
     "output_type": "stream",
     "text": [
      "C:\\Users\\KonovalovAlE\\AppData\\Local\\Temp\\ipykernel_13124\\171963719.py:1: DeprecationWarning: executable_path has been deprecated, please pass in a Service object\n",
      "  driver = webdriver.Edge('C:\\\\Users\\\\KonovalovAlE\\\\Desktop\\\\jupyter notebook\\\\Вебдрайвер edge\\\\msedgedriver.exe')\n"
     ]
    }
   ],
   "source": [
    "driver = webdriver.Edge('C:\\\\Users\\\\KonovalovAlE\\\\Desktop\\\\jupyter notebook\\\\Вебдрайвер edge\\\\msedgedriver.exe')"
   ]
  },
  {
   "cell_type": "code",
   "execution_count": 600,
   "id": "3db368e7",
   "metadata": {},
   "outputs": [],
   "source": [
    "def data_parse(link):\n",
    "    driver.get(link)\n",
    "    time.sleep(2)\n",
    "    main_page = driver.page_source\n",
    "    soup = BeautifulSoup(main_page, features='xml')\n",
    "    \n",
    "    # Ищу местоположение\n",
    "    rent = soup.find_all(attrs={\"class\":{\"attr_value\"}})\n",
    "    place = 'Не найдено'\n",
    "    for i in rent:\n",
    "        if i.text.find('ул') != -1:\n",
    "            place = i.text    \n",
    "        elif 'д.' in i.text and 'Постановление' not in i.text:\n",
    "            place = i.text\n",
    "        elif 'на право заключения' in place:\n",
    "            place = place.split(':')[1]\n",
    "        elif 'округ' in i.text and 'расположен' not in i.text:\n",
    "            place = i.text\n",
    "        elif 'р-н' in i.text and 'по адресу' in i.text:\n",
    "            place = i.text.split(':')[1]\n",
    "    # Площадь участка \n",
    "    sq = soup.find_all(attrs={\"class\":{\"lotAttributeDetail no-padding-bottom\"}})\n",
    "    square = sq[0].text.split('м')[0].strip()\n",
    "    if ':' in square:\n",
    "        square = sq[1].text.split('м')[0].strip()\n",
    "    \n",
    "    # Описание лота\n",
    "    head = soup.find_all(attrs={\"class\":{\"header_title\"}})\n",
    "    header = head[0].text\n",
    "    \n",
    "    # Тип имущества\n",
    "    object_type = ['Нежилые помещения','Здания']\n",
    "    type_ = soup.find_all(attrs={\"class\":{\"attr_value\"}})\n",
    "    for i in type_:\n",
    "        if i.text.strip() in object_type:\n",
    "            type_lot = i.text.strip()\n",
    "    \n",
    "    # Начальная цена\n",
    "    start = soup.find_all(attrs={\"class\":{\"prices__row__price-cell lotPrice\"}}) \n",
    "    start_price = start[0].text.split('₽')[0]\n",
    "    \n",
    "    # Номер извещения\n",
    "    \n",
    "    num = soup.find_all(attrs={\"class\":{\"lotAttributeValue\"}})\n",
    "    nums = num[0].text.split(',')\n",
    "    number = nums[0].split('№')[1]\n",
    "    \n",
    "    # Номер лота\n",
    "    \n",
    "    lot = nums[1].split('№')\n",
    "    lot_n = lot[0]+lot[1]\n",
    "    lot_num = lot_n[1:]\n",
    "    \n",
    "    # Ссылка на лот, добавляю в итоговые данные по порядку\n",
    "    #link которая передаётся в функцию\n",
    "    \n",
    "    # Дата окончания приема заявок\n",
    "    \n",
    "    date_cl = soup.find_all(attrs={\"class\":{\"lotAttributeValue\"}})\n",
    "    date_close = date_cl[5].text[1:11]\n",
    "    \n",
    "    \n",
    "    # Дата торгов\n",
    "    \n",
    "    date_st = soup.find_all(attrs={\"class\":{\"lotAttributeValue\"}})\n",
    "    date_start = date_st[6].text[1:11]\n",
    "    \n",
    "    # Количество версий\n",
    "        #Достаю ссылку на извещение \n",
    "    linked = soup.find_all(attrs={\"class\":{\"button text\"}})\n",
    "    link_to = 'https://torgi.gov.ru' + linked[7].get('href')\n",
    "    link_to\n",
    "        #Загружаю ссылку через драйвер\n",
    "    driver.get(link_to)\n",
    "    time.sleep(2)\n",
    "    main_page = driver.page_source\n",
    "    soup = BeautifulSoup(main_page, features='xml')\n",
    "    \n",
    "    # Дата публикации \n",
    "    lot = soup.find_all(attrs={\"class\":{\"attr_value\"}})\n",
    "    dt_publ = lot[1].text[1:11]\n",
    "    \n",
    "    # Организатор торгов\n",
    "    for i in lot:\n",
    "        if 'КОМИТЕТ' in i.text:\n",
    "            auction_org = i.text\n",
    "        else:\n",
    "            auction_org = lot[8].text\n",
    "            if 'КОМИТЕТ' not in auction_org:\n",
    "                auction_org = lot[10].text\n",
    "                if auction_org.isdigit():\n",
    "                    auction_org = lot[8].text\n",
    "        # Получаю количество версий\n",
    "    versions = driver.find_element(\"class name\", 'aside-btn')\n",
    "    versions.click()\n",
    "    time.sleep(2)\n",
    "    action_time = driver.find_element(\"class name\", \"version-link\").get_attribute('innerHTML').strip()\n",
    "        \n",
    "    ###############################################\n",
    "    \n",
    "    list_of_data = [auction_org,place,square,header,type_lot,start_price,number,lot_num,link,dt_publ,date_close,date_start,action_time]\n",
    "    \n",
    "    return list_of_data"
   ]
  },
  {
   "cell_type": "code",
   "execution_count": 601,
   "id": "d7aba573",
   "metadata": {
    "scrolled": false
   },
   "outputs": [],
   "source": [
    "#data_parse(links_all[0])"
   ]
  },
  {
   "cell_type": "code",
   "execution_count": 602,
   "id": "16b8a5a5",
   "metadata": {},
   "outputs": [],
   "source": [
    "index = ['Организатор торгов','Местоположение','Общая площадь (кв.м)','Описание объекта','Тип имущества','Начальнаяцена,загод','Номер извещения','Номер лота','Ссылка','Дата публикации','Дата окончания приема заявок','Дата торгов/ подведения итогов/отмены','количество версий']\n",
    "columns = list(range(0,len(links_all)))\n",
    "data = pd.DataFrame(index=index, columns=columns)"
   ]
  },
  {
   "cell_type": "code",
   "execution_count": 603,
   "id": "5bc664c4",
   "metadata": {},
   "outputs": [],
   "source": [
    "#data"
   ]
  },
  {
   "cell_type": "code",
   "execution_count": 604,
   "id": "718ee05a",
   "metadata": {
    "scrolled": true
   },
   "outputs": [],
   "source": [
    "for column in data.columns:\n",
    "        data[column] = data_parse(links_all[column])\n"
   ]
  },
  {
   "cell_type": "code",
   "execution_count": 605,
   "id": "74ab5819",
   "metadata": {},
   "outputs": [],
   "source": [
    "data = data.T"
   ]
  },
  {
   "cell_type": "code",
   "execution_count": 606,
   "id": "a8c07a3f",
   "metadata": {},
   "outputs": [],
   "source": [
    "data = data.sort_values(by='количество версий').reset_index(drop=True)"
   ]
  },
  {
   "cell_type": "code",
   "execution_count": 607,
   "id": "dfda3872",
   "metadata": {},
   "outputs": [
    {
     "data": {
      "text/html": [
       "<div>\n",
       "<style scoped>\n",
       "    .dataframe tbody tr th:only-of-type {\n",
       "        vertical-align: middle;\n",
       "    }\n",
       "\n",
       "    .dataframe tbody tr th {\n",
       "        vertical-align: top;\n",
       "    }\n",
       "\n",
       "    .dataframe thead th {\n",
       "        text-align: right;\n",
       "    }\n",
       "</style>\n",
       "<table border=\"1\" class=\"dataframe\">\n",
       "  <thead>\n",
       "    <tr style=\"text-align: right;\">\n",
       "      <th></th>\n",
       "      <th>Организатор торгов</th>\n",
       "      <th>Местоположение</th>\n",
       "      <th>Общая площадь (кв.м)</th>\n",
       "      <th>Описание объекта</th>\n",
       "      <th>Тип имущества</th>\n",
       "      <th>Начальнаяцена,загод</th>\n",
       "      <th>Номер извещения</th>\n",
       "      <th>Номер лота</th>\n",
       "      <th>Ссылка</th>\n",
       "      <th>Дата публикации</th>\n",
       "      <th>Дата окончания приема заявок</th>\n",
       "      <th>Дата торгов/ подведения итогов/отмены</th>\n",
       "      <th>количество версий</th>\n",
       "    </tr>\n",
       "  </thead>\n",
       "  <tbody>\n",
       "    <tr>\n",
       "      <th>0</th>\n",
       "      <td>КОМИТЕТ ПО КОНКУРЕНТНОЙ ПОЛИТИКЕ МОСКОВСКОЙ ОБ...</td>\n",
       "      <td>Московская область, Можайский район, д.Клемент...</td>\n",
       "      <td>9593</td>\n",
       "      <td>Продажа нежилого здания 842 кв.м с земельным у...</td>\n",
       "      <td>Здания</td>\n",
       "      <td>15407000,00</td>\n",
       "      <td>21000004710000002891</td>\n",
       "      <td>лот 1</td>\n",
       "      <td>https://torgi.gov.ru/new/public/lots/lot/21000...</td>\n",
       "      <td>13.09.2022</td>\n",
       "      <td>13.10.2022</td>\n",
       "      <td>17.10.2022</td>\n",
       "      <td>Версия 1</td>\n",
       "    </tr>\n",
       "    <tr>\n",
       "      <th>1</th>\n",
       "      <td>КОМИТЕТ ПО КОНКУРЕНТНОЙ ПОЛИТИКЕ МОСКОВСКОЙ ОБ...</td>\n",
       "      <td>Московская область, р-н Орехово-Зуевский, г. К...</td>\n",
       "      <td>2251,9</td>\n",
       "      <td>Продажа нежилого здания 357,9 кв.м с земельным...</td>\n",
       "      <td>Здания</td>\n",
       "      <td>7172531,14</td>\n",
       "      <td>21000004710000002890</td>\n",
       "      <td>лот 1</td>\n",
       "      <td>https://torgi.gov.ru/new/public/lots/lot/21000...</td>\n",
       "      <td>13.09.2022</td>\n",
       "      <td>13.10.2022</td>\n",
       "      <td>17.10.2022</td>\n",
       "      <td>Версия 1</td>\n",
       "    </tr>\n",
       "    <tr>\n",
       "      <th>2</th>\n",
       "      <td>КОМИТЕТ ПО КОНКУРЕНТНОЙ ПОЛИТИКЕ МОСКОВСКОЙ ОБ...</td>\n",
       "      <td>Российская Федерация, Московская область, горо...</td>\n",
       "      <td>1522,1</td>\n",
       "      <td>Продажа объекта незавершенного строительства 1...</td>\n",
       "      <td>Здания</td>\n",
       "      <td>91838852,00</td>\n",
       "      <td>21000004710000002886</td>\n",
       "      <td>лот 1</td>\n",
       "      <td>https://torgi.gov.ru/new/public/lots/lot/21000...</td>\n",
       "      <td>13.09.2022</td>\n",
       "      <td>14.10.2022</td>\n",
       "      <td>18.10.2022</td>\n",
       "      <td>Версия 1</td>\n",
       "    </tr>\n",
       "    <tr>\n",
       "      <th>3</th>\n",
       "      <td>ФЕДЕРАЛЬНОЕ КАЗЕННОЕ УЧРЕЖДЕНИЕ \"ВОЙСКОВАЯ ЧАС...</td>\n",
       "      <td>городской округ Чехов, г. Чехов-2 ул. Спортивн...</td>\n",
       "      <td>45,5</td>\n",
       "      <td>Право заключения договора аренды недвижимого и...</td>\n",
       "      <td>Нежилые помещения</td>\n",
       "      <td>51947,35</td>\n",
       "      <td>21000019850000000003</td>\n",
       "      <td>лот 1</td>\n",
       "      <td>https://torgi.gov.ru/new/public/lots/lot/21000...</td>\n",
       "      <td>13.09.2022</td>\n",
       "      <td>03.10.2022</td>\n",
       "      <td>05.10.2022</td>\n",
       "      <td>Версия 2</td>\n",
       "    </tr>\n",
       "    <tr>\n",
       "      <th>4</th>\n",
       "      <td>ФЕДЕРАЛЬНОЕ КАЗЕННОЕ УЧРЕЖДЕНИЕ \"ВОЙСКОВАЯ ЧАС...</td>\n",
       "      <td>городской округ Чехов, г. Чехов-2 ул. ул. Севе...</td>\n",
       "      <td>151,5</td>\n",
       "      <td>Право заключения договора аренды недвижимого и...</td>\n",
       "      <td>Нежилые помещения</td>\n",
       "      <td>362145,60</td>\n",
       "      <td>21000019850000000004</td>\n",
       "      <td>лот 1</td>\n",
       "      <td>https://torgi.gov.ru/new/public/lots/lot/21000...</td>\n",
       "      <td>13.09.2022</td>\n",
       "      <td>03.10.2022</td>\n",
       "      <td>05.10.2022</td>\n",
       "      <td>Версия 2</td>\n",
       "    </tr>\n",
       "    <tr>\n",
       "      <th>5</th>\n",
       "      <td>АКЦИОНЕРНОЕ ОБЩЕСТВО \"РОССИЙСКИЙ АУКЦИОННЫЙ ДОМ\"</td>\n",
       "      <td>Московская область, Рузский район, городское п...</td>\n",
       "      <td>35,4</td>\n",
       "      <td>Нежилое помещение: гаражный бокс, площадью 35,...</td>\n",
       "      <td>Нежилые помещения</td>\n",
       "      <td>409200,00</td>\n",
       "      <td>21000002210000000990</td>\n",
       "      <td>лот 1</td>\n",
       "      <td>https://torgi.gov.ru/new/public/lots/lot/21000...</td>\n",
       "      <td>13.09.2022</td>\n",
       "      <td>29.09.2022</td>\n",
       "      <td>06.10.2022</td>\n",
       "      <td>Версия 2</td>\n",
       "    </tr>\n",
       "    <tr>\n",
       "      <th>6</th>\n",
       "      <td>ФЕДЕРАЛЬНОЕ ГОСУДАРСТВЕННОЕ УНИТАРНОЕ ПРЕДПРИЯ...</td>\n",
       "      <td>Московская область, Щелковский район, д. Осеев...</td>\n",
       "      <td>1260,9</td>\n",
       "      <td>Аукцион на право заключения договора аренды фе...</td>\n",
       "      <td>Нежилые помещения</td>\n",
       "      <td>2118312,00</td>\n",
       "      <td>21000010900000000008</td>\n",
       "      <td>лот 1</td>\n",
       "      <td>https://torgi.gov.ru/new/public/lots/lot/21000...</td>\n",
       "      <td>13.09.2022</td>\n",
       "      <td>10.10.2022</td>\n",
       "      <td>12.10.2022</td>\n",
       "      <td>Версия 8</td>\n",
       "    </tr>\n",
       "  </tbody>\n",
       "</table>\n",
       "</div>"
      ],
      "text/plain": [
       "                                  Организатор торгов  \\\n",
       "0  КОМИТЕТ ПО КОНКУРЕНТНОЙ ПОЛИТИКЕ МОСКОВСКОЙ ОБ...   \n",
       "1  КОМИТЕТ ПО КОНКУРЕНТНОЙ ПОЛИТИКЕ МОСКОВСКОЙ ОБ...   \n",
       "2  КОМИТЕТ ПО КОНКУРЕНТНОЙ ПОЛИТИКЕ МОСКОВСКОЙ ОБ...   \n",
       "3  ФЕДЕРАЛЬНОЕ КАЗЕННОЕ УЧРЕЖДЕНИЕ \"ВОЙСКОВАЯ ЧАС...   \n",
       "4  ФЕДЕРАЛЬНОЕ КАЗЕННОЕ УЧРЕЖДЕНИЕ \"ВОЙСКОВАЯ ЧАС...   \n",
       "5   АКЦИОНЕРНОЕ ОБЩЕСТВО \"РОССИЙСКИЙ АУКЦИОННЫЙ ДОМ\"   \n",
       "6  ФЕДЕРАЛЬНОЕ ГОСУДАРСТВЕННОЕ УНИТАРНОЕ ПРЕДПРИЯ...   \n",
       "\n",
       "                                      Местоположение Общая площадь (кв.м)  \\\n",
       "0  Московская область, Можайский район, д.Клемент...                 9593   \n",
       "1  Московская область, р-н Орехово-Зуевский, г. К...               2251,9   \n",
       "2  Российская Федерация, Московская область, горо...               1522,1   \n",
       "3  городской округ Чехов, г. Чехов-2 ул. Спортивн...                 45,5   \n",
       "4  городской округ Чехов, г. Чехов-2 ул. ул. Севе...                151,5   \n",
       "5  Московская область, Рузский район, городское п...                 35,4   \n",
       "6  Московская область, Щелковский район, д. Осеев...               1260,9   \n",
       "\n",
       "                                    Описание объекта      Тип имущества  \\\n",
       "0  Продажа нежилого здания 842 кв.м с земельным у...             Здания   \n",
       "1  Продажа нежилого здания 357,9 кв.м с земельным...             Здания   \n",
       "2  Продажа объекта незавершенного строительства 1...             Здания   \n",
       "3  Право заключения договора аренды недвижимого и...  Нежилые помещения   \n",
       "4  Право заключения договора аренды недвижимого и...  Нежилые помещения   \n",
       "5  Нежилое помещение: гаражный бокс, площадью 35,...  Нежилые помещения   \n",
       "6  Аукцион на право заключения договора аренды фе...  Нежилые помещения   \n",
       "\n",
       "  Начальнаяцена,загод       Номер извещения Номер лота  \\\n",
       "0         15407000,00  21000004710000002891      лот 1   \n",
       "1          7172531,14  21000004710000002890      лот 1   \n",
       "2         91838852,00  21000004710000002886      лот 1   \n",
       "3            51947,35  21000019850000000003      лот 1   \n",
       "4           362145,60  21000019850000000004      лот 1   \n",
       "5           409200,00  21000002210000000990      лот 1   \n",
       "6          2118312,00  21000010900000000008      лот 1   \n",
       "\n",
       "                                              Ссылка Дата публикации  \\\n",
       "0  https://torgi.gov.ru/new/public/lots/lot/21000...      13.09.2022   \n",
       "1  https://torgi.gov.ru/new/public/lots/lot/21000...      13.09.2022   \n",
       "2  https://torgi.gov.ru/new/public/lots/lot/21000...      13.09.2022   \n",
       "3  https://torgi.gov.ru/new/public/lots/lot/21000...      13.09.2022   \n",
       "4  https://torgi.gov.ru/new/public/lots/lot/21000...      13.09.2022   \n",
       "5  https://torgi.gov.ru/new/public/lots/lot/21000...      13.09.2022   \n",
       "6  https://torgi.gov.ru/new/public/lots/lot/21000...      13.09.2022   \n",
       "\n",
       "  Дата окончания приема заявок Дата торгов/ подведения итогов/отмены  \\\n",
       "0                   13.10.2022                            17.10.2022   \n",
       "1                   13.10.2022                            17.10.2022   \n",
       "2                   14.10.2022                            18.10.2022   \n",
       "3                   03.10.2022                            05.10.2022   \n",
       "4                   03.10.2022                            05.10.2022   \n",
       "5                   29.09.2022                            06.10.2022   \n",
       "6                   10.10.2022                            12.10.2022   \n",
       "\n",
       "  количество версий  \n",
       "0          Версия 1  \n",
       "1          Версия 1  \n",
       "2          Версия 1  \n",
       "3          Версия 2  \n",
       "4          Версия 2  \n",
       "5          Версия 2  \n",
       "6          Версия 8  "
      ]
     },
     "execution_count": 607,
     "metadata": {},
     "output_type": "execute_result"
    }
   ],
   "source": [
    "data"
   ]
  },
  {
   "cell_type": "markdown",
   "id": "f045c25b",
   "metadata": {},
   "source": [
    "# Сохранение"
   ]
  },
  {
   "cell_type": "code",
   "execution_count": 366,
   "id": "b241d88f",
   "metadata": {},
   "outputs": [],
   "source": [
    "#data.to_csv('parse_realty_14_09_2022.csv', encoding='utf-8')"
   ]
  }
 ],
 "metadata": {
  "kernelspec": {
   "display_name": "Python 3 (ipykernel)",
   "language": "python",
   "name": "python3"
  },
  "language_info": {
   "codemirror_mode": {
    "name": "ipython",
    "version": 3
   },
   "file_extension": ".py",
   "mimetype": "text/x-python",
   "name": "python",
   "nbconvert_exporter": "python",
   "pygments_lexer": "ipython3",
   "version": "3.9.12"
  }
 },
 "nbformat": 4,
 "nbformat_minor": 5
}
